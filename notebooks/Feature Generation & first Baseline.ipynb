{
 "cells": [
  {
   "cell_type": "markdown",
   "metadata": {},
   "source": [
    "# Generate Features from documents"
   ]
  },
  {
   "cell_type": "code",
   "execution_count": 179,
   "metadata": {
    "collapsed": true
   },
   "outputs": [],
   "source": [
    "import pandas as pd\n",
    "import numpy as np\n",
    "import string\n",
    "from nltk import word_tokenize\n",
    "from nltk.stem.porter import PorterStemmer\n",
    "from sklearn.feature_extraction.text import TfidfVectorizer\n",
    "from sklearn.naive_bayes import MultinomialNB\n",
    "from sklearn.model_selection import GridSearchCV\n",
    "from sklearn.pipeline import Pipeline\n",
    "from sklearn.neighbors import KNeighborsClassifier\n",
    "from sklearn.linear_model import LogisticRegression"
   ]
  },
  {
   "cell_type": "markdown",
   "metadata": {},
   "source": [
    "### Read Doc Corpus & chop into TFiDF-BOWs"
   ]
  },
  {
   "cell_type": "code",
   "execution_count": 189,
   "metadata": {
    "collapsed": false
   },
   "outputs": [],
   "source": [
    "df = pd.read_csv(\"../data/processed/data_train_test.csv\")\n",
    "df_test, df_train = df[df[\"set\"]==\"test\"], df[df[\"set\"]==\"train\"]\n",
    "train_review = df_train[\"review\"].values\n",
    "train_lbl = df_train[\"sentiment\"].values\n",
    "test_review = df_test[\"review\"].values\n",
    "test_lbl = df_test[\"sentiment\"].values"
   ]
  },
  {
   "cell_type": "markdown",
   "metadata": {},
   "source": [
    "### Naive Bayes Pipeline"
   ]
  },
  {
   "cell_type": "code",
   "execution_count": 50,
   "metadata": {
    "collapsed": false
   },
   "outputs": [
    {
     "name": "stdout",
     "output_type": "stream",
     "text": [
      "Fitting 10 folds for each of 1 candidates, totalling 10 fits\n"
     ]
    },
    {
     "name": "stderr",
     "output_type": "stream",
     "text": [
      "[Parallel(n_jobs=-1)]: Done   6 out of  10 | elapsed:    3.3s remaining:    2.2s\n",
      "[Parallel(n_jobs=-1)]: Done  10 out of  10 | elapsed:    4.8s finished\n"
     ]
    }
   ],
   "source": [
    "# NAIVE-BAYES classification pipeline\n",
    "pl_clf_jobs = Pipeline([('tfidf', TfidfVectorizer()),\n",
    "                        ('clf', MultinomialNB()),\n",
    "                       ])\n",
    "\n",
    "# Parameter grid for hyper parameter tuning (of preprocessing)\n",
    "param_grid = [{'tfidf__stop_words' : [None]}]\n",
    "\n",
    "\n",
    "# create grid search\n",
    "gs_clf_jobs = GridSearchCV(pl_clf_jobs,\n",
    "                           param_grid=param_grid,\n",
    "                           cv=10,\n",
    "                           n_jobs=-1,\n",
    "                           verbose=True\n",
    "                          )\n",
    "\n",
    "# run grid search\n",
    "_ = gs_clf_jobs.fit(train_review, train_lbl)"
   ]
  },
  {
   "cell_type": "code",
   "execution_count": 53,
   "metadata": {
    "collapsed": false
   },
   "outputs": [],
   "source": [
    "nb = _.best_estimator_"
   ]
  },
  {
   "cell_type": "code",
   "execution_count": 54,
   "metadata": {
    "collapsed": false
   },
   "outputs": [
    {
     "data": {
      "text/plain": [
       "0.8135"
      ]
     },
     "execution_count": 54,
     "metadata": {},
     "output_type": "execute_result"
    }
   ],
   "source": [
    "nb.score(test_review, test_lbl)"
   ]
  },
  {
   "cell_type": "markdown",
   "metadata": {},
   "source": [
    "# Advanced Shit following"
   ]
  },
  {
   "cell_type": "markdown",
   "metadata": {},
   "source": [
    "### To be tested\n",
    "- min/max tfidf\n",
    "- stemming\n",
    "- stopwordremoval\n"
   ]
  },
  {
   "cell_type": "markdown",
   "metadata": {},
   "source": [
    "# Custom stemmer/tokenizer"
   ]
  },
  {
   "cell_type": "code",
   "execution_count": 64,
   "metadata": {
    "collapsed": false
   },
   "outputs": [],
   "source": [
    "# Create a custom Porter Stemmer that suits sklearn\n",
    "class PortStem(object):\n",
    "    def __init__(self):\n",
    "        self.ps = PorterStemmer()\n",
    "    def __call__(self, doc):\n",
    "        return [self.ps.stem(word) for word in word_tokenize(doc)]"
   ]
  },
  {
   "cell_type": "code",
   "execution_count": 191,
   "metadata": {
    "collapsed": false
   },
   "outputs": [
    {
     "name": "stdout",
     "output_type": "stream",
     "text": [
      "Fitting 2 folds for each of 4 candidates, totalling 8 fits\n"
     ]
    },
    {
     "name": "stderr",
     "output_type": "stream",
     "text": [
      "[Parallel(n_jobs=-1)]: Done   2 out of   8 | elapsed:    2.3s remaining:    6.9s\n",
      "[Parallel(n_jobs=-1)]: Done   8 out of   8 | elapsed:   22.1s finished\n"
     ]
    }
   ],
   "source": [
    "# NAIVE-BAYES classification pipeline\n",
    "pl_clf_jobs = Pipeline([('tfidf', TfidfVectorizer()),\n",
    "                        ('clf', MultinomialNB()),\n",
    "                       ])\n",
    "\n",
    "# Parameter grid for hyper parameter tuning (of preprocessing)\n",
    "param_grid = [{'tfidf__stop_words' : [None, \"english\"]},\n",
    "              {'tfidf__tokenizer': [None, PortStem()]}\n",
    "             ]\n",
    "\n",
    "\n",
    "\n",
    "# create grid search\n",
    "gs_clf_jobs = GridSearchCV(pl_clf_jobs,\n",
    "                           param_grid=param_grid,\n",
    "                           cv=2,\n",
    "                           n_jobs=-1,\n",
    "                           verbose=True\n",
    "                          )\n",
    "\n",
    "# run grid search\n",
    "_ = gs_clf_jobs.fit(train_review, train_lbl)"
   ]
  },
  {
   "cell_type": "code",
   "execution_count": 192,
   "metadata": {
    "collapsed": true
   },
   "outputs": [],
   "source": [
    "nb = _.best_estimator_"
   ]
  },
  {
   "cell_type": "code",
   "execution_count": 193,
   "metadata": {
    "collapsed": false
   },
   "outputs": [
    {
     "data": {
      "text/plain": [
       "0.8135"
      ]
     },
     "execution_count": 193,
     "metadata": {},
     "output_type": "execute_result"
    }
   ],
   "source": [
    "nb.score(test_review, test_lbl)"
   ]
  },
  {
   "cell_type": "markdown",
   "metadata": {},
   "source": [
    "# KNN"
   ]
  },
  {
   "cell_type": "code",
   "execution_count": 175,
   "metadata": {
    "collapsed": false
   },
   "outputs": [
    {
     "name": "stdout",
     "output_type": "stream",
     "text": [
      "Fitting 2 folds for each of 7 candidates, totalling 14 fits\n"
     ]
    },
    {
     "name": "stderr",
     "output_type": "stream",
     "text": [
      "[Parallel(n_jobs=-1)]: Done  14 out of  14 | elapsed:   25.4s remaining:    0.0s\n",
      "[Parallel(n_jobs=-1)]: Done  14 out of  14 | elapsed:   25.4s finished\n"
     ]
    }
   ],
   "source": [
    "# KNN classification pipeline\n",
    "pl_clf_jobs = Pipeline([('tfidf', TfidfVectorizer()),\n",
    "                        ('clf', KNeighborsClassifier()),\n",
    "                       ])\n",
    "\n",
    "# Parameter grid for hyper parameter tuning (of preprocessing)\n",
    "param_grid = [{'tfidf__stop_words' : [None]},\n",
    "              {'tfidf__tokenizer': [None, PortStem()]},\n",
    "              {'clf__n_neighbors': [190, 191, 192]},\n",
    "              {'clf__metric': ['cosine']}\n",
    "              \n",
    "             ]\n",
    "\n",
    "\n",
    "\n",
    "# create grid search\n",
    "gs_clf_jobs = GridSearchCV(pl_clf_jobs,\n",
    "                           param_grid=param_grid,\n",
    "                           cv=2,\n",
    "                           n_jobs=-1,\n",
    "                           verbose=True\n",
    "                          )\n",
    "\n",
    "# run grid search\n",
    "_ = gs_clf_jobs.fit(train_review, train_lbl)"
   ]
  },
  {
   "cell_type": "code",
   "execution_count": 173,
   "metadata": {
    "collapsed": true
   },
   "outputs": [],
   "source": [
    "knn = _.best_estimator_"
   ]
  },
  {
   "cell_type": "code",
   "execution_count": 164,
   "metadata": {
    "collapsed": false
   },
   "outputs": [
    {
     "data": {
      "text/plain": [
       "0.76149999999999995"
      ]
     },
     "execution_count": 164,
     "metadata": {},
     "output_type": "execute_result"
    }
   ],
   "source": [
    "knn.score(test_review, test_lbl)"
   ]
  },
  {
   "cell_type": "markdown",
   "metadata": {},
   "source": [
    "# Logistic Regression"
   ]
  },
  {
   "cell_type": "code",
   "execution_count": 180,
   "metadata": {
    "collapsed": false
   },
   "outputs": [
    {
     "name": "stdout",
     "output_type": "stream",
     "text": [
      "Fitting 2 folds for each of 24 candidates, totalling 48 fits\n"
     ]
    },
    {
     "name": "stderr",
     "output_type": "stream",
     "text": [
      "[Parallel(n_jobs=-1)]: Done  48 out of  48 | elapsed:  2.5min finished\n"
     ]
    }
   ],
   "source": [
    "# Logistic Regression classification pipeline\n",
    "pl_clf_jobs_lr = Pipeline([('tfidf', TfidfVectorizer()),\n",
    "                           ('clf', LogisticRegression()),\n",
    "                          ])\n",
    "\n",
    "# Parameter grid for hyper parameter tuning \n",
    "param_grid_lr = [{'tfidf__stop_words' : [None, 'english'],\n",
    "                  'tfidf__tokenizer' : [None, PortStem()],\n",
    "                  'clf__penalty' : [\"l1\", \"l2\"],\n",
    "                  'clf__C' : [1.0, 10.0, 100.0,]\n",
    "                 }]\n",
    "\n",
    "# create grid search\n",
    "gs_clf_jobs_lr = GridSearchCV(pl_clf_jobs_lr,\n",
    "                              param_grid=param_grid_lr,\n",
    "                              cv=2,\n",
    "                              n_jobs=-1,\n",
    "                              verbose=True\n",
    "                              )\n",
    "\n",
    "# run grid search\n",
    "_ = gs_clf_jobs_lr.fit(train_review, train_lbl)"
   ]
  },
  {
   "cell_type": "code",
   "execution_count": 181,
   "metadata": {
    "collapsed": true
   },
   "outputs": [],
   "source": [
    "lr = _.best_estimator_"
   ]
  },
  {
   "cell_type": "code",
   "execution_count": 195,
   "metadata": {
    "collapsed": false
   },
   "outputs": [
    {
     "data": {
      "text/plain": [
       "0.85199999999999998"
      ]
     },
     "execution_count": 195,
     "metadata": {},
     "output_type": "execute_result"
    }
   ],
   "source": [
    "lr.score(test_review, test_lbl)"
   ]
  },
  {
   "cell_type": "markdown",
   "metadata": {},
   "source": [
    "# Where to go from here?\n",
    "- combine word and genre (\"greatHORROR\")\n",
    "- ngrams (e.g. 2-grams for \"not bad\", etc...)"
   ]
  },
  {
   "cell_type": "markdown",
   "metadata": {},
   "source": [
    "## Loading tabular IMDB to merge w/ enhanced test-train-set"
   ]
  },
  {
   "cell_type": "code",
   "execution_count": 503,
   "metadata": {
    "collapsed": false
   },
   "outputs": [],
   "source": [
    "df_imdb = pd.read_csv(\"../data/processed/IMDB.csv\", delimiter=\";\")\n",
    "df_test_train_en = pd.read_csv(\"../data/processed/data_train_test_imdb_ids.csv\")"
   ]
  },
  {
   "cell_type": "markdown",
   "metadata": {},
   "source": [
    "## Interesting meta information to be considered (from IMDB)\n",
    "- genre\n",
    "- #votings"
   ]
  },
  {
   "cell_type": "code",
   "execution_count": 508,
   "metadata": {
    "collapsed": false
   },
   "outputs": [
    {
     "data": {
      "text/plain": [
       "Index(['﻿response', 'title', 'year', 'rated', 'released', 'runtime', 'genre',\n",
       "       'director', 'writer', 'actors', 'plot', 'language', 'country', 'awards',\n",
       "       'poster', 'metascore', 'imdbRating', 'imdbVotes', 'imdbID', 'type',\n",
       "       'season', 'episode', 'seriesID'],\n",
       "      dtype='object')"
      ]
     },
     "execution_count": 508,
     "metadata": {},
     "output_type": "execute_result"
    }
   ],
   "source": [
    "df_imdb.columns"
   ]
  },
  {
   "cell_type": "code",
   "execution_count": 511,
   "metadata": {
    "collapsed": true
   },
   "outputs": [],
   "source": [
    "df_imdb_genres = df_imdb.loc[:, [\"imdbID\", \"genre\"]]"
   ]
  },
  {
   "cell_type": "code",
   "execution_count": 552,
   "metadata": {
    "collapsed": false
   },
   "outputs": [],
   "source": [
    "test_imdb = df_imdb_genres.head()"
   ]
  },
  {
   "cell_type": "code",
   "execution_count": 515,
   "metadata": {
    "collapsed": true
   },
   "outputs": [],
   "source": [
    "test_normal_set = df_test_train_en.head()"
   ]
  },
  {
   "cell_type": "code",
   "execution_count": 556,
   "metadata": {
    "collapsed": false
   },
   "outputs": [
    {
     "data": {
      "text/html": [
       "<div>\n",
       "<table border=\"1\" class=\"dataframe\">\n",
       "  <thead>\n",
       "    <tr style=\"text-align: right;\">\n",
       "      <th></th>\n",
       "      <th>imdbID</th>\n",
       "      <th>genre</th>\n",
       "    </tr>\n",
       "  </thead>\n",
       "  <tbody>\n",
       "    <tr>\n",
       "      <th>0</th>\n",
       "      <td>tt0001032</td>\n",
       "      <td>shortdramahorror</td>\n",
       "    </tr>\n",
       "    <tr>\n",
       "      <th>1</th>\n",
       "      <td>tt0004736</td>\n",
       "      <td>comedyshort</td>\n",
       "    </tr>\n",
       "    <tr>\n",
       "      <th>2</th>\n",
       "      <td>tt0005077</td>\n",
       "      <td>shortcomedy</td>\n",
       "    </tr>\n",
       "    <tr>\n",
       "      <th>3</th>\n",
       "      <td>tt0008458</td>\n",
       "      <td>dramaromance</td>\n",
       "    </tr>\n",
       "    <tr>\n",
       "      <th>4</th>\n",
       "      <td>tt0012224</td>\n",
       "      <td>comedyshort</td>\n",
       "    </tr>\n",
       "  </tbody>\n",
       "</table>\n",
       "</div>"
      ],
      "text/plain": [
       "      imdbID             genre\n",
       "0  tt0001032  shortdramahorror\n",
       "1  tt0004736       comedyshort\n",
       "2  tt0005077       shortcomedy\n",
       "3  tt0008458      dramaromance\n",
       "4  tt0012224       comedyshort"
      ]
     },
     "execution_count": 556,
     "metadata": {},
     "output_type": "execute_result"
    }
   ],
   "source": [
    "col_concatter(test_imdb, column=\"genre\", delim=\", \")"
   ]
  },
  {
   "cell_type": "code",
   "execution_count": 528,
   "metadata": {
    "collapsed": false
   },
   "outputs": [
    {
     "data": {
      "text/html": [
       "<div>\n",
       "<table border=\"1\" class=\"dataframe\">\n",
       "  <thead>\n",
       "    <tr style=\"text-align: right;\">\n",
       "      <th></th>\n",
       "      <th>id</th>\n",
       "      <th>imdb_id</th>\n",
       "      <th>rating</th>\n",
       "      <th>review</th>\n",
       "      <th>sentiment</th>\n",
       "      <th>set</th>\n",
       "    </tr>\n",
       "  </thead>\n",
       "  <tbody>\n",
       "    <tr>\n",
       "      <th>0</th>\n",
       "      <td>0</td>\n",
       "      <td>tt0406816</td>\n",
       "      <td>10</td>\n",
       "      <td>I went and saw this movie last night after bei...</td>\n",
       "      <td>pos</td>\n",
       "      <td>test</td>\n",
       "    </tr>\n",
       "    <tr>\n",
       "      <th>1</th>\n",
       "      <td>100</td>\n",
       "      <td>tt0406816</td>\n",
       "      <td>10</td>\n",
       "      <td>The finest short I've ever seen. Some commenta...</td>\n",
       "      <td>pos</td>\n",
       "      <td>test</td>\n",
       "    </tr>\n",
       "    <tr>\n",
       "      <th>2</th>\n",
       "      <td>101</td>\n",
       "      <td>tt0406816</td>\n",
       "      <td>9</td>\n",
       "      <td>This is a very, very odd film...one that is so...</td>\n",
       "      <td>pos</td>\n",
       "      <td>test</td>\n",
       "    </tr>\n",
       "    <tr>\n",
       "      <th>3</th>\n",
       "      <td>102</td>\n",
       "      <td>tt0406816</td>\n",
       "      <td>8</td>\n",
       "      <td>Although Bullet In The Brain is, without quest...</td>\n",
       "      <td>pos</td>\n",
       "      <td>test</td>\n",
       "    </tr>\n",
       "    <tr>\n",
       "      <th>4</th>\n",
       "      <td>103</td>\n",
       "      <td>tt0406816</td>\n",
       "      <td>10</td>\n",
       "      <td>...means \"take up and read\", which is precisel...</td>\n",
       "      <td>pos</td>\n",
       "      <td>test</td>\n",
       "    </tr>\n",
       "  </tbody>\n",
       "</table>\n",
       "</div>"
      ],
      "text/plain": [
       "    id    imdb_id  rating                                             review  \\\n",
       "0    0  tt0406816      10  I went and saw this movie last night after bei...   \n",
       "1  100  tt0406816      10  The finest short I've ever seen. Some commenta...   \n",
       "2  101  tt0406816       9  This is a very, very odd film...one that is so...   \n",
       "3  102  tt0406816       8  Although Bullet In The Brain is, without quest...   \n",
       "4  103  tt0406816      10  ...means \"take up and read\", which is precisel...   \n",
       "\n",
       "  sentiment   set  \n",
       "0       pos  test  \n",
       "1       pos  test  \n",
       "2       pos  test  \n",
       "3       pos  test  \n",
       "4       pos  test  "
      ]
     },
     "execution_count": 528,
     "metadata": {},
     "output_type": "execute_result"
    }
   ],
   "source": [
    "test_normal_set"
   ]
  },
  {
   "cell_type": "code",
   "execution_count": 529,
   "metadata": {
    "collapsed": false
   },
   "outputs": [
    {
     "data": {
      "text/html": [
       "<div>\n",
       "<table border=\"1\" class=\"dataframe\">\n",
       "  <thead>\n",
       "    <tr style=\"text-align: right;\">\n",
       "      <th></th>\n",
       "      <th>id</th>\n",
       "      <th>imdb_id</th>\n",
       "      <th>rating</th>\n",
       "      <th>review</th>\n",
       "      <th>sentiment</th>\n",
       "      <th>set</th>\n",
       "      <th>genre</th>\n",
       "    </tr>\n",
       "  </thead>\n",
       "  <tbody>\n",
       "    <tr>\n",
       "      <th>0</th>\n",
       "      <td>0</td>\n",
       "      <td>tt0406816</td>\n",
       "      <td>10</td>\n",
       "      <td>I went and saw this movie last night after bei...</td>\n",
       "      <td>pos</td>\n",
       "      <td>test</td>\n",
       "      <td>Action, Adventure, Drama</td>\n",
       "    </tr>\n",
       "    <tr>\n",
       "      <th>1</th>\n",
       "      <td>100</td>\n",
       "      <td>tt0406816</td>\n",
       "      <td>10</td>\n",
       "      <td>The finest short I've ever seen. Some commenta...</td>\n",
       "      <td>pos</td>\n",
       "      <td>test</td>\n",
       "      <td>Action, Adventure, Drama</td>\n",
       "    </tr>\n",
       "    <tr>\n",
       "      <th>2</th>\n",
       "      <td>101</td>\n",
       "      <td>tt0406816</td>\n",
       "      <td>9</td>\n",
       "      <td>This is a very, very odd film...one that is so...</td>\n",
       "      <td>pos</td>\n",
       "      <td>test</td>\n",
       "      <td>Action, Adventure, Drama</td>\n",
       "    </tr>\n",
       "    <tr>\n",
       "      <th>3</th>\n",
       "      <td>102</td>\n",
       "      <td>tt0406816</td>\n",
       "      <td>8</td>\n",
       "      <td>Although Bullet In The Brain is, without quest...</td>\n",
       "      <td>pos</td>\n",
       "      <td>test</td>\n",
       "      <td>Action, Adventure, Drama</td>\n",
       "    </tr>\n",
       "    <tr>\n",
       "      <th>4</th>\n",
       "      <td>103</td>\n",
       "      <td>tt0406816</td>\n",
       "      <td>10</td>\n",
       "      <td>...means \"take up and read\", which is precisel...</td>\n",
       "      <td>pos</td>\n",
       "      <td>test</td>\n",
       "      <td>Action, Adventure, Drama</td>\n",
       "    </tr>\n",
       "  </tbody>\n",
       "</table>\n",
       "</div>"
      ],
      "text/plain": [
       "    id    imdb_id  rating                                             review  \\\n",
       "0    0  tt0406816      10  I went and saw this movie last night after bei...   \n",
       "1  100  tt0406816      10  The finest short I've ever seen. Some commenta...   \n",
       "2  101  tt0406816       9  This is a very, very odd film...one that is so...   \n",
       "3  102  tt0406816       8  Although Bullet In The Brain is, without quest...   \n",
       "4  103  tt0406816      10  ...means \"take up and read\", which is precisel...   \n",
       "\n",
       "  sentiment   set                     genre  \n",
       "0       pos  test  Action, Adventure, Drama  \n",
       "1       pos  test  Action, Adventure, Drama  \n",
       "2       pos  test  Action, Adventure, Drama  \n",
       "3       pos  test  Action, Adventure, Drama  \n",
       "4       pos  test  Action, Adventure, Drama  "
      ]
     },
     "execution_count": 529,
     "metadata": {},
     "output_type": "execute_result"
    }
   ],
   "source": [
    "pd.merge(test_normal_set, test_imdb)"
   ]
  },
  {
   "cell_type": "code",
   "execution_count": 568,
   "metadata": {
    "collapsed": false
   },
   "outputs": [],
   "source": [
    "def col_concatter(df, column, delimiter=\",\", uppercase=True):\n",
    "    \"\"\"Concat multiple values of one column\n",
    "    \"\"\"\n",
    "    df_res = df.copy()\n",
    "    if uppercase:\n",
    "        col_new = df.apply(\n",
    "        lambda row:\n",
    "        \"\".join(\n",
    "            sorted(map(lambda x: x.upper(), row[column].split(delimiter)))\n",
    "        ),axis=1)\n",
    "    else:\n",
    "        col_new = df.apply(\n",
    "        lambda row:\n",
    "        \"\".join(\n",
    "            row[column].split(delimiter)\n",
    "        ),axis=1)\n",
    "    df_res[column] = col_new\n",
    "    return df_res"
   ]
  },
  {
   "cell_type": "code",
   "execution_count": 410,
   "metadata": {
    "collapsed": false
   },
   "outputs": [],
   "source": [
    "def review_concatter(df, concat=\"genre\"):\n",
    "    \"\"\"Append the 'concat' to each word of the review\n",
    "    \"\"\"\n",
    "    if not \"review\" in df.columns:\n",
    "        raise ValueError(\"Need to have a 'review' column\")\n",
    "    df_res = df.copy()\n",
    "    rev_new = df.apply(\n",
    "        lambda row:\n",
    "        \" \".join([word+row[concat] for word in row[\"review\"].split()]),\n",
    "        axis=1)\n",
    "    df_res[\"review\"] = rev_new\n",
    "    return df_res"
   ]
  }
 ],
 "metadata": {
  "anaconda-cloud": {},
  "kernelspec": {
   "display_name": "Python [Root]",
   "language": "python",
   "name": "Python [Root]"
  },
  "language_info": {
   "codemirror_mode": {
    "name": "ipython",
    "version": 3
   },
   "file_extension": ".py",
   "mimetype": "text/x-python",
   "name": "python",
   "nbconvert_exporter": "python",
   "pygments_lexer": "ipython3",
   "version": "3.5.2"
  }
 },
 "nbformat": 4,
 "nbformat_minor": 0
}
