{
 "cells": [
  {
   "cell_type": "markdown",
   "metadata": {},
   "source": [
    "# Building file"
   ]
  },
  {
   "cell_type": "code",
   "execution_count": 2,
   "metadata": {
    "collapsed": true
   },
   "outputs": [],
   "source": [
    "import pandas as pd\n",
    "import os\n",
    "import re"
   ]
  },
  {
   "cell_type": "code",
   "execution_count": 34,
   "metadata": {
    "collapsed": false
   },
   "outputs": [],
   "source": [
    "labels = {'neg':0, 'pos':1}\n",
    "df = pd.DataFrame()\n",
    "\n",
    "for s in ('test', 'train'):\n",
    "    for l in ('pos', 'neg'):\n",
    "        path = '../data/raw/{}/{}'.format(s, l)\n",
    "        for file in os.listdir(path):\n",
    "            regx = re.findall(r'(\\d*)_(\\d*).txt', file)\n",
    "            mid, score = regx[0][0], regx[0][1]\n",
    "            with open(os.path.join(path, file), 'r') as infile:\n",
    "                txt=infile.read()\n",
    "            df = df.append([[mid, score, txt, l, s]], ignore_index=True)\n",
    "df.columns = ['id', 'rating', 'review', 'sentiment', 'set']\n",
    "df.to_csv('../data/processed/data_train_test.csv', index=False)"
   ]
  }
 ],
 "metadata": {
  "kernelspec": {
   "display_name": "Python [Root]",
   "language": "python",
   "name": "Python [Root]"
  },
  "language_info": {
   "codemirror_mode": {
    "name": "ipython",
    "version": 3
   },
   "file_extension": ".py",
   "mimetype": "text/x-python",
   "name": "python",
   "nbconvert_exporter": "python",
   "pygments_lexer": "ipython3",
   "version": "3.5.2"
  }
 },
 "nbformat": 4,
 "nbformat_minor": 0
}
