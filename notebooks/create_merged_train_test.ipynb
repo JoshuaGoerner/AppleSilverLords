{
 "cells": [
  {
   "cell_type": "markdown",
   "metadata": {},
   "source": [
    "# Building file\n",
    "Included attributes:\n",
    "- **id** >> ID from files\n",
    "- **imdb_id** >> ID from IMDB\n",
    "- **rating** >> rating (0-10)\n",
    "- **review** >> written review\n",
    "- **sentiment** >> neg or pos\n",
    "- **set** >> test or train"
   ]
  },
  {
   "cell_type": "code",
   "execution_count": 2,
   "metadata": {
    "collapsed": true
   },
   "outputs": [],
   "source": [
    "import pandas as pd\n",
    "import os\n",
    "import re"
   ]
  },
  {
   "cell_type": "code",
   "execution_count": 27,
   "metadata": {
    "collapsed": false
   },
   "outputs": [],
   "source": [
    "labels = {'neg':0, 'pos':1}\n",
    "df = pd.DataFrame()\n",
    "\n",
    "for s in ('test', 'train'):\n",
    "    for l in ('pos', 'neg'):\n",
    "        path = '../data/raw/{}/{}'.format(s, l)\n",
    "        path_imdb_id = '../data/raw/{}/imdbids_{}.txt'.format(s,l)\n",
    "        imdb_ids = open(path_imdb_id).read().splitlines()\n",
    "        for imdb_id, file in enumerate(os.listdir(path)):\n",
    "            imdb_id = imdb_ids[idx]\n",
    "            regx = re.findall(r'(\\d*)_(\\d*).txt', file)\n",
    "            mid, score = regx[0][0], regx[0][1]\n",
    "            with open(os.path.join(path, file), 'r') as infile:\n",
    "                txt=infile.read()\n",
    "            df = df.append([[mid, imdb_id, score, txt, l, s]], ignore_index=True)\n",
    "df.columns = ['id', 'imdb_id', 'rating', 'review', 'sentiment', 'set']\n",
    "df.to_csv('../data/processed/data_train_test_imdb_ids.csv', index=False)"
   ]
  }
 ],
 "metadata": {
  "kernelspec": {
   "display_name": "Python [Root]",
   "language": "python",
   "name": "Python [Root]"
  },
  "language_info": {
   "codemirror_mode": {
    "name": "ipython",
    "version": 3
   },
   "file_extension": ".py",
   "mimetype": "text/x-python",
   "name": "python",
   "nbconvert_exporter": "python",
   "pygments_lexer": "ipython3",
   "version": "3.5.2"
  }
 },
 "nbformat": 4,
 "nbformat_minor": 0
}
